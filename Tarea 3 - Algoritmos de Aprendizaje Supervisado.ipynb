{
 "cells": [
  {
   "cell_type": "code",
   "execution_count": 5,
   "id": "a4789b7b-eb18-43af-bbda-3ca32e5bfdc3",
   "metadata": {},
   "outputs": [],
   "source": [
    "import pandas as pd\n",
    "import numpy as np\n",
    "import matplotlib.pyplot as plt\n",
    "import seaborn as sns\n",
    "from sklearn.metrics import accuracy_score, precision_score, recall_score, f1_score, classification_report, confusion_matrix\n",
    "import seaborn as sns\n",
    "import matplotlib.pyplot as plt"
   ]
  },
  {
   "cell_type": "code",
   "execution_count": 7,
   "id": "00d8b266-0b55-4ee6-9a45-f66cd213e45b",
   "metadata": {},
   "outputs": [],
   "source": [
    "from sklearn.metrics import accuracy_score, recall_score, f1_score, classification_report\n",
    "from sklearn import metrics \n",
    "from sklearn.model_selection import train_test_split\n",
    "from sklearn.linear_model import LinearRegression\n",
    "modelo_regresion = LinearRegression()\n",
    "from sklearn.linear_model import LogisticRegression\n",
    "from sklearn.svm import LinearSVC \n",
    "liblinear = LinearSVC()\n",
    "from sklearn.metrics import classification_report, confusion_matrix"
   ]
  },
  {
   "cell_type": "code",
   "execution_count": 9,
   "id": "ddd7f204-6d46-4ecd-ba9d-c417efae0636",
   "metadata": {
    "scrolled": true
   },
   "outputs": [],
   "source": [
    "df = pd.read_csv('C:/Users/Samantha/Downloads/heart_cleveland_upload.csv')\n"
   ]
  },
  {
   "cell_type": "code",
   "execution_count": 11,
   "id": "e3fe176b-7d2e-4f99-a34c-3010c1acf9a7",
   "metadata": {},
   "outputs": [
    {
     "data": {
      "text/html": [
       "<div>\n",
       "<style scoped>\n",
       "    .dataframe tbody tr th:only-of-type {\n",
       "        vertical-align: middle;\n",
       "    }\n",
       "\n",
       "    .dataframe tbody tr th {\n",
       "        vertical-align: top;\n",
       "    }\n",
       "\n",
       "    .dataframe thead th {\n",
       "        text-align: right;\n",
       "    }\n",
       "</style>\n",
       "<table border=\"1\" class=\"dataframe\">\n",
       "  <thead>\n",
       "    <tr style=\"text-align: right;\">\n",
       "      <th></th>\n",
       "      <th>age</th>\n",
       "      <th>sex</th>\n",
       "      <th>cp</th>\n",
       "      <th>trestbps</th>\n",
       "      <th>chol</th>\n",
       "      <th>fbs</th>\n",
       "      <th>restecg</th>\n",
       "      <th>thalach</th>\n",
       "      <th>exang</th>\n",
       "      <th>oldpeak</th>\n",
       "      <th>slope</th>\n",
       "      <th>ca</th>\n",
       "      <th>thal</th>\n",
       "      <th>condition</th>\n",
       "    </tr>\n",
       "  </thead>\n",
       "  <tbody>\n",
       "    <tr>\n",
       "      <th>0</th>\n",
       "      <td>69</td>\n",
       "      <td>1</td>\n",
       "      <td>0</td>\n",
       "      <td>160</td>\n",
       "      <td>234</td>\n",
       "      <td>1</td>\n",
       "      <td>2</td>\n",
       "      <td>131</td>\n",
       "      <td>0</td>\n",
       "      <td>0.1</td>\n",
       "      <td>1</td>\n",
       "      <td>1</td>\n",
       "      <td>0</td>\n",
       "      <td>0</td>\n",
       "    </tr>\n",
       "    <tr>\n",
       "      <th>1</th>\n",
       "      <td>69</td>\n",
       "      <td>0</td>\n",
       "      <td>0</td>\n",
       "      <td>140</td>\n",
       "      <td>239</td>\n",
       "      <td>0</td>\n",
       "      <td>0</td>\n",
       "      <td>151</td>\n",
       "      <td>0</td>\n",
       "      <td>1.8</td>\n",
       "      <td>0</td>\n",
       "      <td>2</td>\n",
       "      <td>0</td>\n",
       "      <td>0</td>\n",
       "    </tr>\n",
       "    <tr>\n",
       "      <th>2</th>\n",
       "      <td>66</td>\n",
       "      <td>0</td>\n",
       "      <td>0</td>\n",
       "      <td>150</td>\n",
       "      <td>226</td>\n",
       "      <td>0</td>\n",
       "      <td>0</td>\n",
       "      <td>114</td>\n",
       "      <td>0</td>\n",
       "      <td>2.6</td>\n",
       "      <td>2</td>\n",
       "      <td>0</td>\n",
       "      <td>0</td>\n",
       "      <td>0</td>\n",
       "    </tr>\n",
       "    <tr>\n",
       "      <th>3</th>\n",
       "      <td>65</td>\n",
       "      <td>1</td>\n",
       "      <td>0</td>\n",
       "      <td>138</td>\n",
       "      <td>282</td>\n",
       "      <td>1</td>\n",
       "      <td>2</td>\n",
       "      <td>174</td>\n",
       "      <td>0</td>\n",
       "      <td>1.4</td>\n",
       "      <td>1</td>\n",
       "      <td>1</td>\n",
       "      <td>0</td>\n",
       "      <td>1</td>\n",
       "    </tr>\n",
       "    <tr>\n",
       "      <th>4</th>\n",
       "      <td>64</td>\n",
       "      <td>1</td>\n",
       "      <td>0</td>\n",
       "      <td>110</td>\n",
       "      <td>211</td>\n",
       "      <td>0</td>\n",
       "      <td>2</td>\n",
       "      <td>144</td>\n",
       "      <td>1</td>\n",
       "      <td>1.8</td>\n",
       "      <td>1</td>\n",
       "      <td>0</td>\n",
       "      <td>0</td>\n",
       "      <td>0</td>\n",
       "    </tr>\n",
       "    <tr>\n",
       "      <th>...</th>\n",
       "      <td>...</td>\n",
       "      <td>...</td>\n",
       "      <td>...</td>\n",
       "      <td>...</td>\n",
       "      <td>...</td>\n",
       "      <td>...</td>\n",
       "      <td>...</td>\n",
       "      <td>...</td>\n",
       "      <td>...</td>\n",
       "      <td>...</td>\n",
       "      <td>...</td>\n",
       "      <td>...</td>\n",
       "      <td>...</td>\n",
       "      <td>...</td>\n",
       "    </tr>\n",
       "    <tr>\n",
       "      <th>292</th>\n",
       "      <td>40</td>\n",
       "      <td>1</td>\n",
       "      <td>3</td>\n",
       "      <td>152</td>\n",
       "      <td>223</td>\n",
       "      <td>0</td>\n",
       "      <td>0</td>\n",
       "      <td>181</td>\n",
       "      <td>0</td>\n",
       "      <td>0.0</td>\n",
       "      <td>0</td>\n",
       "      <td>0</td>\n",
       "      <td>2</td>\n",
       "      <td>1</td>\n",
       "    </tr>\n",
       "    <tr>\n",
       "      <th>293</th>\n",
       "      <td>39</td>\n",
       "      <td>1</td>\n",
       "      <td>3</td>\n",
       "      <td>118</td>\n",
       "      <td>219</td>\n",
       "      <td>0</td>\n",
       "      <td>0</td>\n",
       "      <td>140</td>\n",
       "      <td>0</td>\n",
       "      <td>1.2</td>\n",
       "      <td>1</td>\n",
       "      <td>0</td>\n",
       "      <td>2</td>\n",
       "      <td>1</td>\n",
       "    </tr>\n",
       "    <tr>\n",
       "      <th>294</th>\n",
       "      <td>35</td>\n",
       "      <td>1</td>\n",
       "      <td>3</td>\n",
       "      <td>120</td>\n",
       "      <td>198</td>\n",
       "      <td>0</td>\n",
       "      <td>0</td>\n",
       "      <td>130</td>\n",
       "      <td>1</td>\n",
       "      <td>1.6</td>\n",
       "      <td>1</td>\n",
       "      <td>0</td>\n",
       "      <td>2</td>\n",
       "      <td>1</td>\n",
       "    </tr>\n",
       "    <tr>\n",
       "      <th>295</th>\n",
       "      <td>35</td>\n",
       "      <td>0</td>\n",
       "      <td>3</td>\n",
       "      <td>138</td>\n",
       "      <td>183</td>\n",
       "      <td>0</td>\n",
       "      <td>0</td>\n",
       "      <td>182</td>\n",
       "      <td>0</td>\n",
       "      <td>1.4</td>\n",
       "      <td>0</td>\n",
       "      <td>0</td>\n",
       "      <td>0</td>\n",
       "      <td>0</td>\n",
       "    </tr>\n",
       "    <tr>\n",
       "      <th>296</th>\n",
       "      <td>35</td>\n",
       "      <td>1</td>\n",
       "      <td>3</td>\n",
       "      <td>126</td>\n",
       "      <td>282</td>\n",
       "      <td>0</td>\n",
       "      <td>2</td>\n",
       "      <td>156</td>\n",
       "      <td>1</td>\n",
       "      <td>0.0</td>\n",
       "      <td>0</td>\n",
       "      <td>0</td>\n",
       "      <td>2</td>\n",
       "      <td>1</td>\n",
       "    </tr>\n",
       "  </tbody>\n",
       "</table>\n",
       "<p>297 rows × 14 columns</p>\n",
       "</div>"
      ],
      "text/plain": [
       "     age  sex  cp  trestbps  chol  fbs  restecg  thalach  exang  oldpeak  \\\n",
       "0     69    1   0       160   234    1        2      131      0      0.1   \n",
       "1     69    0   0       140   239    0        0      151      0      1.8   \n",
       "2     66    0   0       150   226    0        0      114      0      2.6   \n",
       "3     65    1   0       138   282    1        2      174      0      1.4   \n",
       "4     64    1   0       110   211    0        2      144      1      1.8   \n",
       "..   ...  ...  ..       ...   ...  ...      ...      ...    ...      ...   \n",
       "292   40    1   3       152   223    0        0      181      0      0.0   \n",
       "293   39    1   3       118   219    0        0      140      0      1.2   \n",
       "294   35    1   3       120   198    0        0      130      1      1.6   \n",
       "295   35    0   3       138   183    0        0      182      0      1.4   \n",
       "296   35    1   3       126   282    0        2      156      1      0.0   \n",
       "\n",
       "     slope  ca  thal  condition  \n",
       "0        1   1     0          0  \n",
       "1        0   2     0          0  \n",
       "2        2   0     0          0  \n",
       "3        1   1     0          1  \n",
       "4        1   0     0          0  \n",
       "..     ...  ..   ...        ...  \n",
       "292      0   0     2          1  \n",
       "293      1   0     2          1  \n",
       "294      1   0     2          1  \n",
       "295      0   0     0          0  \n",
       "296      0   0     2          1  \n",
       "\n",
       "[297 rows x 14 columns]"
      ]
     },
     "execution_count": 11,
     "metadata": {},
     "output_type": "execute_result"
    }
   ],
   "source": [
    "df.head(n=297)"
   ]
  },
  {
   "cell_type": "code",
   "execution_count": 13,
   "id": "1f4af79b-b7bd-4b9f-9e3f-371d8c9c2214",
   "metadata": {
    "scrolled": true
   },
   "outputs": [
    {
     "data": {
      "text/html": [
       "<div>\n",
       "<style scoped>\n",
       "    .dataframe tbody tr th:only-of-type {\n",
       "        vertical-align: middle;\n",
       "    }\n",
       "\n",
       "    .dataframe tbody tr th {\n",
       "        vertical-align: top;\n",
       "    }\n",
       "\n",
       "    .dataframe thead th {\n",
       "        text-align: right;\n",
       "    }\n",
       "</style>\n",
       "<table border=\"1\" class=\"dataframe\">\n",
       "  <thead>\n",
       "    <tr style=\"text-align: right;\">\n",
       "      <th></th>\n",
       "      <th>age</th>\n",
       "      <th>sex</th>\n",
       "      <th>cp</th>\n",
       "      <th>trestbps</th>\n",
       "      <th>chol</th>\n",
       "      <th>fbs</th>\n",
       "      <th>restecg</th>\n",
       "      <th>thalach</th>\n",
       "      <th>exang</th>\n",
       "      <th>oldpeak</th>\n",
       "      <th>slope</th>\n",
       "      <th>ca</th>\n",
       "      <th>thal</th>\n",
       "      <th>condition</th>\n",
       "    </tr>\n",
       "  </thead>\n",
       "  <tbody>\n",
       "    <tr>\n",
       "      <th>count</th>\n",
       "      <td>297.000000</td>\n",
       "      <td>297.000000</td>\n",
       "      <td>297.000000</td>\n",
       "      <td>297.000000</td>\n",
       "      <td>297.000000</td>\n",
       "      <td>297.000000</td>\n",
       "      <td>297.000000</td>\n",
       "      <td>297.000000</td>\n",
       "      <td>297.000000</td>\n",
       "      <td>297.000000</td>\n",
       "      <td>297.000000</td>\n",
       "      <td>297.000000</td>\n",
       "      <td>297.000000</td>\n",
       "      <td>297.000000</td>\n",
       "    </tr>\n",
       "    <tr>\n",
       "      <th>mean</th>\n",
       "      <td>54.542088</td>\n",
       "      <td>0.676768</td>\n",
       "      <td>2.158249</td>\n",
       "      <td>131.693603</td>\n",
       "      <td>247.350168</td>\n",
       "      <td>0.144781</td>\n",
       "      <td>0.996633</td>\n",
       "      <td>149.599327</td>\n",
       "      <td>0.326599</td>\n",
       "      <td>1.055556</td>\n",
       "      <td>0.602694</td>\n",
       "      <td>0.676768</td>\n",
       "      <td>0.835017</td>\n",
       "      <td>0.461279</td>\n",
       "    </tr>\n",
       "    <tr>\n",
       "      <th>std</th>\n",
       "      <td>9.049736</td>\n",
       "      <td>0.468500</td>\n",
       "      <td>0.964859</td>\n",
       "      <td>17.762806</td>\n",
       "      <td>51.997583</td>\n",
       "      <td>0.352474</td>\n",
       "      <td>0.994914</td>\n",
       "      <td>22.941562</td>\n",
       "      <td>0.469761</td>\n",
       "      <td>1.166123</td>\n",
       "      <td>0.618187</td>\n",
       "      <td>0.938965</td>\n",
       "      <td>0.956690</td>\n",
       "      <td>0.499340</td>\n",
       "    </tr>\n",
       "    <tr>\n",
       "      <th>min</th>\n",
       "      <td>29.000000</td>\n",
       "      <td>0.000000</td>\n",
       "      <td>0.000000</td>\n",
       "      <td>94.000000</td>\n",
       "      <td>126.000000</td>\n",
       "      <td>0.000000</td>\n",
       "      <td>0.000000</td>\n",
       "      <td>71.000000</td>\n",
       "      <td>0.000000</td>\n",
       "      <td>0.000000</td>\n",
       "      <td>0.000000</td>\n",
       "      <td>0.000000</td>\n",
       "      <td>0.000000</td>\n",
       "      <td>0.000000</td>\n",
       "    </tr>\n",
       "    <tr>\n",
       "      <th>25%</th>\n",
       "      <td>48.000000</td>\n",
       "      <td>0.000000</td>\n",
       "      <td>2.000000</td>\n",
       "      <td>120.000000</td>\n",
       "      <td>211.000000</td>\n",
       "      <td>0.000000</td>\n",
       "      <td>0.000000</td>\n",
       "      <td>133.000000</td>\n",
       "      <td>0.000000</td>\n",
       "      <td>0.000000</td>\n",
       "      <td>0.000000</td>\n",
       "      <td>0.000000</td>\n",
       "      <td>0.000000</td>\n",
       "      <td>0.000000</td>\n",
       "    </tr>\n",
       "    <tr>\n",
       "      <th>50%</th>\n",
       "      <td>56.000000</td>\n",
       "      <td>1.000000</td>\n",
       "      <td>2.000000</td>\n",
       "      <td>130.000000</td>\n",
       "      <td>243.000000</td>\n",
       "      <td>0.000000</td>\n",
       "      <td>1.000000</td>\n",
       "      <td>153.000000</td>\n",
       "      <td>0.000000</td>\n",
       "      <td>0.800000</td>\n",
       "      <td>1.000000</td>\n",
       "      <td>0.000000</td>\n",
       "      <td>0.000000</td>\n",
       "      <td>0.000000</td>\n",
       "    </tr>\n",
       "    <tr>\n",
       "      <th>75%</th>\n",
       "      <td>61.000000</td>\n",
       "      <td>1.000000</td>\n",
       "      <td>3.000000</td>\n",
       "      <td>140.000000</td>\n",
       "      <td>276.000000</td>\n",
       "      <td>0.000000</td>\n",
       "      <td>2.000000</td>\n",
       "      <td>166.000000</td>\n",
       "      <td>1.000000</td>\n",
       "      <td>1.600000</td>\n",
       "      <td>1.000000</td>\n",
       "      <td>1.000000</td>\n",
       "      <td>2.000000</td>\n",
       "      <td>1.000000</td>\n",
       "    </tr>\n",
       "    <tr>\n",
       "      <th>max</th>\n",
       "      <td>77.000000</td>\n",
       "      <td>1.000000</td>\n",
       "      <td>3.000000</td>\n",
       "      <td>200.000000</td>\n",
       "      <td>564.000000</td>\n",
       "      <td>1.000000</td>\n",
       "      <td>2.000000</td>\n",
       "      <td>202.000000</td>\n",
       "      <td>1.000000</td>\n",
       "      <td>6.200000</td>\n",
       "      <td>2.000000</td>\n",
       "      <td>3.000000</td>\n",
       "      <td>2.000000</td>\n",
       "      <td>1.000000</td>\n",
       "    </tr>\n",
       "  </tbody>\n",
       "</table>\n",
       "</div>"
      ],
      "text/plain": [
       "              age         sex          cp    trestbps        chol         fbs  \\\n",
       "count  297.000000  297.000000  297.000000  297.000000  297.000000  297.000000   \n",
       "mean    54.542088    0.676768    2.158249  131.693603  247.350168    0.144781   \n",
       "std      9.049736    0.468500    0.964859   17.762806   51.997583    0.352474   \n",
       "min     29.000000    0.000000    0.000000   94.000000  126.000000    0.000000   \n",
       "25%     48.000000    0.000000    2.000000  120.000000  211.000000    0.000000   \n",
       "50%     56.000000    1.000000    2.000000  130.000000  243.000000    0.000000   \n",
       "75%     61.000000    1.000000    3.000000  140.000000  276.000000    0.000000   \n",
       "max     77.000000    1.000000    3.000000  200.000000  564.000000    1.000000   \n",
       "\n",
       "          restecg     thalach       exang     oldpeak       slope          ca  \\\n",
       "count  297.000000  297.000000  297.000000  297.000000  297.000000  297.000000   \n",
       "mean     0.996633  149.599327    0.326599    1.055556    0.602694    0.676768   \n",
       "std      0.994914   22.941562    0.469761    1.166123    0.618187    0.938965   \n",
       "min      0.000000   71.000000    0.000000    0.000000    0.000000    0.000000   \n",
       "25%      0.000000  133.000000    0.000000    0.000000    0.000000    0.000000   \n",
       "50%      1.000000  153.000000    0.000000    0.800000    1.000000    0.000000   \n",
       "75%      2.000000  166.000000    1.000000    1.600000    1.000000    1.000000   \n",
       "max      2.000000  202.000000    1.000000    6.200000    2.000000    3.000000   \n",
       "\n",
       "             thal   condition  \n",
       "count  297.000000  297.000000  \n",
       "mean     0.835017    0.461279  \n",
       "std      0.956690    0.499340  \n",
       "min      0.000000    0.000000  \n",
       "25%      0.000000    0.000000  \n",
       "50%      0.000000    0.000000  \n",
       "75%      2.000000    1.000000  \n",
       "max      2.000000    1.000000  "
      ]
     },
     "execution_count": 13,
     "metadata": {},
     "output_type": "execute_result"
    }
   ],
   "source": [
    "df.describe()"
   ]
  },
  {
   "cell_type": "code",
   "execution_count": 15,
   "id": "63c32675-8647-433d-8488-46c188850c4f",
   "metadata": {},
   "outputs": [
    {
     "data": {
      "text/plain": [
       "Text(0.5, 1.0, 'Identificación de Datos Faltantes y Atípicos')"
      ]
     },
     "execution_count": 15,
     "metadata": {},
     "output_type": "execute_result"
    },
    {
     "data": {
      "image/png": "[encoded data removed]",
      "text/plain": [
       "<Figure size 600x300 with 1 Axes>"
      ]
     },
     "metadata": {},
     "output_type": "display_data"
    }
   ],
   "source": [
    "plt.figure(figsize=(6, 3))\n",
    "sns.boxplot(x=df[\"ca\"])\n",
    "plt.title('Identificación de Datos Faltantes y Atípicos', fontsize=15 )"
   ]
  },
  {
   "cell_type": "code",
   "execution_count": 17,
   "id": "75bec962-8d13-4186-acd3-885f29d7ca47",
   "metadata": {},
   "outputs": [
    {
     "data": {
      "text/plain": [
       "Text(0.5, 1.0, 'Identificación de Datos Faltantes y Atípicos')"
      ]
     },
     "execution_count": 17,
     "metadata": {},
     "output_type": "execute_result"
    },
    {
     "data": {
      "image/png": "[encoded data removed]",
      "text/plain": [
       "<Figure size 600x300 with 1 Axes>"
      ]
     },
     "metadata": {},
     "output_type": "display_data"
    }
   ],
   "source": [
    "plt.figure(figsize=(6, 3))\n",
    "sns.boxplot(x=df[\"age\"])\n",
    "plt.title('Identificación de Datos Faltantes y Atípicos', fontsize=15 )"
   ]
  },
  {
   "cell_type": "code",
   "execution_count": 19,
   "id": "54ec28f7-bed5-4f4a-a207-1378a21b7975",
   "metadata": {},
   "outputs": [
    {
     "data": {
      "text/plain": [
       "Text(0.5, 1.0, 'Identificación de Datos Faltantes y Atípicos')"
      ]
     },
     "execution_count": 19,
     "metadata": {},
     "output_type": "execute_result"
    },
    {
     "data": {
      "image/png": "[encoded data removed]",
      "text/plain": [
       "<Figure size 600x300 with 1 Axes>"
      ]
     },
     "metadata": {},
     "output_type": "display_data"
    }
   ],
   "source": [
    "plt.figure(figsize=(6, 3))\n",
    "sns.boxplot(x=df[\"sex\"])\n",
    "plt.title('Identificación de Datos Faltantes y Atípicos', fontsize=15 )"
   ]
  },
  {
   "cell_type": "code",
   "execution_count": 21,
   "id": "5472cf15-e7db-40b8-858c-ff25a34c71ea",
   "metadata": {
    "scrolled": true
   },
   "outputs": [
    {
     "name": "stdout",
     "output_type": "stream",
     "text": [
      "Cantidad de Registros con cero en cp:  23\n",
      "Cantidad de Registros con cero en age:  0\n",
      "Cantidad de Registros con cero en fbs:  254\n",
      "Cantidad de Registros con cero en restecg:  147\n",
      "Cantidad de Registros con cero en exang:  200\n",
      "Cantidad de Registros con cero en oldpeak:  96\n",
      "Cantidad de Registros con cero en slope:  139\n",
      "Cantidad de Registros con cero en ca:  174\n",
      "Cantidad de Registros con cero en thal:  164\n",
      "Cantidad de Registros con cero en condition:  160\n"
     ]
    }
   ],
   "source": [
    "print(\"Cantidad de Registros con cero en cp: \",df['cp'].isin([0]).sum())\n",
    "print(\"Cantidad de Registros con cero en age: \",df['age'].isin([0]).sum())\n",
    "print(\"Cantidad de Registros con cero en fbs: \",df['fbs'].isin([0]).sum())\n",
    "print(\"Cantidad de Registros con cero en restecg: \",df['restecg'].isin([0]).sum())\n",
    "print(\"Cantidad de Registros con cero en exang: \",df['exang'].isin([0]).sum())\n",
    "print(\"Cantidad de Registros con cero en oldpeak: \",df['oldpeak'].isin([0]).sum())\n",
    "print(\"Cantidad de Registros con cero en slope: \",df['slope'].isin([0]).sum())\n",
    "print(\"Cantidad de Registros con cero en ca: \",df['ca'].isin([0]).sum())\n",
    "print(\"Cantidad de Registros con cero en thal: \",df['thal'].isin([0]).sum())\n",
    "print(\"Cantidad de Registros con cero en condition: \",df['condition'].isin([0]).sum())"
   ]
  },
  {
   "cell_type": "code",
   "execution_count": 23,
   "id": "e16b675c-efc3-4520-b35a-cc42b009aca0",
   "metadata": {},
   "outputs": [],
   "source": [
    "df['cp']=df['cp'].replace(0,df['cp'].mean())\n",
    "df['age']=df['age'].replace(0,df['age'].mean())\n",
    "df['fbs']=df['fbs'].replace(0,df['fbs'].mean())\n",
    "df['restecg']=df['restecg'].replace(0,df['restecg'].mean())\n",
    "df['exang']=df['exang'].replace(0,df['exang'].mean())\n",
    "df['oldpeak']=df['oldpeak'].replace(0,df['oldpeak'].mean())\n",
    "df['slope']=df['slope'].replace(0,df['slope'].mean())\n",
    "df['ca']=df['ca'].replace(0,df['ca'].mean())\n",
    "df['thal']=df['thal'].replace(0,df['thal'].mean())\n",
    "df['condition']=df['condition'].replace(0,df['condition'].mean())"
   ]
  },
  {
   "cell_type": "code",
   "execution_count": 25,
   "id": "c7b9dcaa-ed26-4464-8ebf-19cd523db1d6",
   "metadata": {},
   "outputs": [
    {
     "name": "stdout",
     "output_type": "stream",
     "text": [
      "Cantidad de Registros con cero en cp:  0\n",
      "Cantidad de Registros con cero en age:  0\n",
      "Cantidad de Registros con cero en fbs:  0\n",
      "Cantidad de Registros con cero en restecg:  0\n",
      "Cantidad de Registros con cero en exang:  0\n",
      "Cantidad de Registros con cero en oldpeak:  0\n",
      "Cantidad de Registros con cero en slope:  0\n",
      "Cantidad de Registros con cero en ca:  0\n",
      "Cantidad de Registros con cero en thal:  0\n",
      "Cantidad de Registros con cero en condition:  0\n"
     ]
    }
   ],
   "source": [
    "print(\"Cantidad de Registros con cero en cp: \",df['cp'].isin([0]).sum())\n",
    "print(\"Cantidad de Registros con cero en age: \",df['age'].isin([0]).sum())\n",
    "print(\"Cantidad de Registros con cero en fbs: \",df['fbs'].isin([0]).sum())\n",
    "print(\"Cantidad de Registros con cero en restecg: \",df['restecg'].isin([0]).sum())\n",
    "print(\"Cantidad de Registros con cero en exang: \",df['exang'].isin([0]).sum())\n",
    "print(\"Cantidad de Registros con cero en oldpeak: \",df['oldpeak'].isin([0]).sum())\n",
    "print(\"Cantidad de Registros con cero en slope: \",df['slope'].isin([0]).sum())\n",
    "print(\"Cantidad de Registros con cero en ca: \",df['ca'].isin([0]).sum())\n",
    "print(\"Cantidad de Registros con cero en thal: \",df['thal'].isin([0]).sum())\n",
    "print(\"Cantidad de Registros con cero en condition: \",df['condition'].isin([0]).sum())"
   ]
  },
  {
   "cell_type": "code",
   "execution_count": 27,
   "id": "78ad0e43-5bce-4ed1-89ab-364486ecdb56",
   "metadata": {},
   "outputs": [
    {
     "data": {
      "text/plain": [
       "Text(0.5, 1.0, 'Identificación de Datos Faltantes y Atípicos')"
      ]
     },
     "execution_count": 27,
     "metadata": {},
     "output_type": "execute_result"
    },
    {
     "data": {
      "image/png": "[encoded data removed]",
      "text/plain": [
       "<Figure size 600x300 with 1 Axes>"
      ]
     },
     "metadata": {},
     "output_type": "display_data"
    }
   ],
   "source": [
    "plt.figure(figsize=(6, 3))\n",
    "sns.boxplot(x=df[\"chol\"])\n",
    "plt.title('Identificación de Datos Faltantes y Atípicos', fontsize=10 )"
   ]
  },
  {
   "cell_type": "markdown",
   "id": "5a75ee37-593d-4480-a95c-6895ae345072",
   "metadata": {},
   "source": [
    "nivel_minimo=150\n",
    "nivel_maximo=500\n",
    "Total_Atipicos=((df['chol']<nivel_minimo)|(df['chol']>nivel_maximo)).sum()\n",
    "print(\"El total de los datos atípicos es{}\".format(Total_Atipicos))"
   ]
  },
  {
   "cell_type": "code",
   "execution_count": 30,
   "id": "2803466f-f434-46e4-8151-753951b3ee8f",
   "metadata": {},
   "outputs": [
    {
     "name": "stdout",
     "output_type": "stream",
     "text": [
      "El total de los datos atípicos es 6\n"
     ]
    }
   ],
   "source": [
    "nivel_minimo=150 \n",
    "nivel_maximo=500 \n",
    "Total_Atipicos=((df['chol']<nivel_minimo)|(df['chol']>nivel_maximo)).sum() \n",
    "print(\"El total de los datos atípicos es {}\".format(Total_Atipicos))"
   ]
  },
  {
   "cell_type": "code",
   "execution_count": 32,
   "id": "055f8d02-9d78-44cb-8552-9cf32323821b",
   "metadata": {},
   "outputs": [],
   "source": [
    "df=df[(df['chol']<nivel_maximo)&(df['chol']>nivel_minimo)]"
   ]
  },
  {
   "cell_type": "code",
   "execution_count": 34,
   "id": "bb413204-0ac3-49e2-a62c-8dc7511a1661",
   "metadata": {},
   "outputs": [
    {
     "name": "stdout",
     "output_type": "stream",
     "text": [
      "El total de los datos atípicos es 0\n"
     ]
    }
   ],
   "source": [
    "Total_Atipicos=((df['chol']<nivel_minimo)|(df['chol']>nivel_maximo)).sum()\n",
    "print(\"El total de los datos atípicos es {}\".format(Total_Atipicos))"
   ]
  },
  {
   "cell_type": "code",
   "execution_count": 36,
   "id": "e0541b06-398e-4054-8fc9-7eba3291b2b8",
   "metadata": {},
   "outputs": [
    {
     "name": "stdout",
     "output_type": "stream",
     "text": [
      "<class 'pandas.core.frame.DataFrame'>\n",
      "Index: 291 entries, 0 to 296\n",
      "Data columns (total 14 columns):\n",
      " #   Column     Non-Null Count  Dtype  \n",
      "---  ------     --------------  -----  \n",
      " 0   age        291 non-null    int64  \n",
      " 1   sex        291 non-null    int64  \n",
      " 2   cp         291 non-null    float64\n",
      " 3   trestbps   291 non-null    int64  \n",
      " 4   chol       291 non-null    int64  \n",
      " 5   fbs        291 non-null    float64\n",
      " 6   restecg    291 non-null    float64\n",
      " 7   thalach    291 non-null    int64  \n",
      " 8   exang      291 non-null    float64\n",
      " 9   oldpeak    291 non-null    float64\n",
      " 10  slope      291 non-null    float64\n",
      " 11  ca         291 non-null    float64\n",
      " 12  thal       291 non-null    float64\n",
      " 13  condition  291 non-null    float64\n",
      "dtypes: float64(9), int64(5)\n",
      "memory usage: 34.1 KB\n"
     ]
    }
   ],
   "source": [
    "df.info()"
   ]
  },
  {
   "cell_type": "code",
   "execution_count": 38,
   "id": "17d8bb77-efb0-41a9-b08a-41594b0309fb",
   "metadata": {},
   "outputs": [
    {
     "data": {
      "text/plain": [
       "condition\n",
       "0.461279    156\n",
       "1.000000    135\n",
       "Name: count, dtype: int64"
      ]
     },
     "execution_count": 38,
     "metadata": {},
     "output_type": "execute_result"
    }
   ],
   "source": [
    "df['condition'].value_counts()"
   ]
  },
  {
   "cell_type": "code",
   "execution_count": 40,
   "id": "ce388444-8d96-4f85-bc4a-94aec43c2f98",
   "metadata": {},
   "outputs": [
    {
     "data": {
      "text/html": [
       "<div>\n",
       "<style scoped>\n",
       "    .dataframe tbody tr th:only-of-type {\n",
       "        vertical-align: middle;\n",
       "    }\n",
       "\n",
       "    .dataframe tbody tr th {\n",
       "        vertical-align: top;\n",
       "    }\n",
       "\n",
       "    .dataframe thead th {\n",
       "        text-align: right;\n",
       "    }\n",
       "</style>\n",
       "<table border=\"1\" class=\"dataframe\">\n",
       "  <thead>\n",
       "    <tr style=\"text-align: right;\">\n",
       "      <th></th>\n",
       "      <th>condition</th>\n",
       "    </tr>\n",
       "  </thead>\n",
       "  <tbody>\n",
       "    <tr>\n",
       "      <th>0</th>\n",
       "      <td>0.461279</td>\n",
       "    </tr>\n",
       "    <tr>\n",
       "      <th>1</th>\n",
       "      <td>0.461279</td>\n",
       "    </tr>\n",
       "    <tr>\n",
       "      <th>2</th>\n",
       "      <td>0.461279</td>\n",
       "    </tr>\n",
       "    <tr>\n",
       "      <th>3</th>\n",
       "      <td>1.000000</td>\n",
       "    </tr>\n",
       "    <tr>\n",
       "      <th>4</th>\n",
       "      <td>0.461279</td>\n",
       "    </tr>\n",
       "    <tr>\n",
       "      <th>5</th>\n",
       "      <td>0.461279</td>\n",
       "    </tr>\n",
       "    <tr>\n",
       "      <th>6</th>\n",
       "      <td>0.461279</td>\n",
       "    </tr>\n",
       "    <tr>\n",
       "      <th>7</th>\n",
       "      <td>1.000000</td>\n",
       "    </tr>\n",
       "    <tr>\n",
       "      <th>8</th>\n",
       "      <td>0.461279</td>\n",
       "    </tr>\n",
       "    <tr>\n",
       "      <th>9</th>\n",
       "      <td>0.461279</td>\n",
       "    </tr>\n",
       "  </tbody>\n",
       "</table>\n",
       "</div>"
      ],
      "text/plain": [
       "   condition\n",
       "0   0.461279\n",
       "1   0.461279\n",
       "2   0.461279\n",
       "3   1.000000\n",
       "4   0.461279\n",
       "5   0.461279\n",
       "6   0.461279\n",
       "7   1.000000\n",
       "8   0.461279\n",
       "9   0.461279"
      ]
     },
     "execution_count": 40,
     "metadata": {},
     "output_type": "execute_result"
    }
   ],
   "source": [
    "df[['condition']].head(10)"
   ]
  },
  {
   "cell_type": "code",
   "execution_count": 42,
   "id": "d83c0a30-1007-4302-a943-1069f0856c85",
   "metadata": {},
   "outputs": [],
   "source": [
    "X = df.drop('condition', axis=1)\n",
    "Y = df['condition']\n",
    "X_train, X_test, Y_train, Y_test = train_test_split(X, Y, test_size=0.25, stratify=Y, random_state= 0)"
   ]
  },
  {
   "cell_type": "code",
   "execution_count": 44,
   "id": "eb4854d3-abf3-4733-bb03-7f7933da1977",
   "metadata": {},
   "outputs": [
    {
     "name": "stdout",
     "output_type": "stream",
     "text": [
      "     age  sex        cp  trestbps  chol       fbs   restecg  thalach  \\\n",
      "52    48    1  1.000000       110   229  0.144781  0.996633      168   \n",
      "275   45    1  3.000000       104   208  0.144781  2.000000      148   \n",
      "66    41    1  1.000000       110   235  0.144781  0.996633      153   \n",
      "292   40    1  3.000000       152   223  0.144781  0.996633      181   \n",
      "5     64    1  2.158249       170   227  0.144781  2.000000      155   \n",
      "..   ...  ...       ...       ...   ...       ...       ...      ...   \n",
      "143   43    1  2.000000       130   315  0.144781  0.996633      162   \n",
      "245   54    1  3.000000       120   188  0.144781  0.996633      113   \n",
      "288   42    1  3.000000       136   315  0.144781  0.996633      125   \n",
      "264   50    1  3.000000       144   200  0.144781  2.000000      126   \n",
      "233   57    1  3.000000       132   207  0.144781  0.996633      168   \n",
      "\n",
      "        exang   oldpeak     slope        ca      thal  \n",
      "52   0.326599  1.000000  2.000000  0.676768  2.000000  \n",
      "275  1.000000  3.000000  1.000000  0.676768  0.835017  \n",
      "66   0.326599  1.055556  0.602694  0.676768  0.835017  \n",
      "292  0.326599  1.055556  0.602694  0.676768  2.000000  \n",
      "5    0.326599  0.600000  1.000000  0.676768  2.000000  \n",
      "..        ...       ...       ...       ...       ...  \n",
      "143  0.326599  1.900000  0.602694  1.000000  0.835017  \n",
      "245  0.326599  1.400000  1.000000  1.000000  2.000000  \n",
      "288  1.000000  1.800000  1.000000  0.676768  1.000000  \n",
      "264  1.000000  0.900000  1.000000  0.676768  2.000000  \n",
      "233  1.000000  1.055556  0.602694  0.676768  2.000000  \n",
      "\n",
      "[218 rows x 13 columns]\n"
     ]
    }
   ],
   "source": [
    "print (X_train)"
   ]
  },
  {
   "cell_type": "code",
   "execution_count": 46,
   "id": "65723f90-787c-4064-af1f-58bfd50b4ffc",
   "metadata": {},
   "outputs": [],
   "source": [
    "model_regresion = LogisticRegression(solver = \"liblinear\")\n",
    "modelo_regresion.fit (X_train , Y_train)\n",
    "Prediccion = modelo_regresion.predict(X_test)"
   ]
  },
  {
   "cell_type": "code",
   "execution_count": 48,
   "id": "c84f450f-24fd-4fdf-a1e6-a643895ce07c",
   "metadata": {},
   "outputs": [
    {
     "name": "stdout",
     "output_type": "stream",
     "text": [
      "110    0.461279\n",
      "184    1.000000\n",
      "30     0.461279\n",
      "276    0.461279\n",
      "112    0.461279\n",
      "         ...   \n",
      "104    0.461279\n",
      "269    1.000000\n",
      "90     0.461279\n",
      "246    1.000000\n",
      "76     1.000000\n",
      "Name: condition, Length: 73, dtype: float64\n"
     ]
    }
   ],
   "source": [
    "print (Y_test)"
   ]
  },
  {
   "cell_type": "code",
   "execution_count": 50,
   "id": "bd5e66fd-a618-4b83-9a84-a754f02743e0",
   "metadata": {},
   "outputs": [
    {
     "name": "stdout",
     "output_type": "stream",
     "text": [
      "[0.41431967 1.09737638 0.55909087 0.64020923 0.49053011 0.98145395\n",
      " 0.96889111 0.75329609 0.6185942  1.16503274 0.4555681  0.55064149\n",
      " 0.75815672 0.8234895  0.4303622  0.66270883 0.95486978 0.94167279\n",
      " 0.9145481  0.58338454 0.52159015 0.85941728 0.87580652 0.45127028\n",
      " 0.8001331  0.78567024 0.42989145 0.90149969 0.83887295 0.80972198\n",
      " 0.52960904 0.56220965 0.63572621 0.5985955  0.65364547 0.77967328\n",
      " 0.43954895 0.42639191 0.91257048 0.91754617 0.40346509 0.63234224\n",
      " 0.48493646 0.86041952 1.18240284 0.50216101 0.60551019 0.60167814\n",
      " 0.50435986 0.75830654 0.55996319 0.40452937 1.1013347  1.01252074\n",
      " 0.50118308 0.73098174 0.54836678 0.56176882 0.97064544 0.77241877\n",
      " 0.50361008 0.59366515 0.68324627 0.9466095  0.37271364 0.76790328\n",
      " 0.54341042 0.4961659  0.52727533 0.9634997  0.98680081 0.95784684\n",
      " 0.852864  ]\n"
     ]
    }
   ],
   "source": [
    "print (Prediccion)"
   ]
  },
  {
   "cell_type": "code",
   "execution_count": 52,
   "id": "ed5a9994-b4ec-4d4c-a9a0-e9c020e85a2a",
   "metadata": {},
   "outputs": [
    {
     "name": "stdout",
     "output_type": "stream",
     "text": [
      "Precisión: 0.88\n",
      "Recall: 0.86\n",
      "F1 Score: 0.87\n",
      "Accuracy: 0.88\n",
      "              precision    recall  f1-score   support\n",
      "\n",
      "           0       0.88      0.90      0.89        40\n",
      "           1       0.88      0.86      0.87        35\n",
      "\n",
      "    accuracy                           0.88        75\n",
      "   macro avg       0.88      0.88      0.88        75\n",
      "weighted avg       0.88      0.88      0.88        75\n",
      "\n"
     ]
    },
    {
     "data": {
      "image/png": "[encoded data removed]",
      "text/plain": [
       "<Figure size 800x600 with 2 Axes>"
      ]
     },
     "metadata": {},
     "output_type": "display_data"
    }
   ],
   "source": [
    "import pandas as pd\n",
    "import numpy as np\n",
    "import matplotlib.pyplot as plt\n",
    "import seaborn as sns\n",
    "from sklearn.metrics import accuracy_score, precision_score, recall_score, f1_score, classification_report, confusion_matrix\n",
    "from sklearn.model_selection import train_test_split\n",
    "from sklearn.linear_model import LogisticRegression\n",
    "\n",
    "# Cargar datos\n",
    "df = pd.read_csv('C:/Users/Samantha/Downloads/heart_cleveland_upload.csv')\n",
    "\n",
    "# Preprocesamiento (añade aquí tu código de limpieza y tratamiento de datos)\n",
    "\n",
    "# Definir características y variable objetivo\n",
    "X = df.drop('condition', axis=1)\n",
    "Y = df['condition']\n",
    "\n",
    "# Dividir los datos en conjunto de entrenamiento y prueba\n",
    "X_train, X_test, Y_train, Y_test = train_test_split(X, Y, test_size=0.25, stratify=Y, random_state=0)\n",
    "\n",
    "# Entrenar el modelo\n",
    "modelo_regresion = LogisticRegression(solver=\"liblinear\")\n",
    "modelo_regresion.fit(X_train, Y_train)\n",
    "\n",
    "# Realizar predicciones\n",
    "Prediccion = modelo_regresion.predict(X_test)\n",
    "\n",
    "# Evaluar el desempeño del modelo\n",
    "precision = precision_score(Y_test, Prediccion)\n",
    "recall = recall_score(Y_test, Prediccion)\n",
    "f1 = f1_score(Y_test, Prediccion)\n",
    "accuracy = accuracy_score(Y_test, Prediccion)\n",
    "\n",
    "print(f'Precisión: {precision:.2f}')\n",
    "print(f'Recall: {recall:.2f}')\n",
    "print(f'F1 Score: {f1:.2f}')\n",
    "print(f'Accuracy: {accuracy:.2f}')\n",
    "\n",
    "# Informe de clasificación\n",
    "report = classification_report(Y_test, Prediccion)\n",
    "print(report)\n",
    "\n",
    "# Matriz de confusión\n",
    "confusion = confusion_matrix(Y_test, Prediccion)\n",
    "plt.figure(figsize=(8, 6))\n",
    "sns.heatmap(confusion, annot=True, fmt='d', cmap='Blues', xticklabels=['No Enfermo', 'Enfermo'], yticklabels=['No Enfermo', 'Enfermo'])\n",
    "plt.ylabel('Verdadero')\n",
    "plt.xlabel('Predicción')\n",
    "plt.title('Matriz de Confusión')\n",
    "plt.show()"
   ]
  },
  {
   "cell_type": "code",
   "execution_count": 54,
   "id": "9eae55ce-03ed-4837-9b72-65955c5ecd4f",
   "metadata": {},
   "outputs": [
    {
     "data": {
      "image/png": "[encoded data removed]",
      "text/plain": [
       "<Figure size 800x600 with 2 Axes>"
      ]
     },
     "metadata": {},
     "output_type": "display_data"
    },
    {
     "data": {
      "image/png": "[encoded data removed]",
      "text/plain": [
       "<Figure size 1000x600 with 1 Axes>"
      ]
     },
     "metadata": {},
     "output_type": "display_data"
    },
    {
     "data": {
      "image/png": "[encoded data removed]",
      "text/plain": [
       "<Figure size 800x600 with 1 Axes>"
      ]
     },
     "metadata": {},
     "output_type": "display_data"
    },
    {
     "name": "stderr",
     "output_type": "stream",
     "text": [
      "C:\\Users\\Samantha\\AppData\\Local\\Temp\\ipykernel_7844\\3940707474.py:56: FutureWarning: \n",
      "\n",
      "Passing `palette` without assigning `hue` is deprecated and will be removed in v0.14.0. Assign the `y` variable to `hue` and set `legend=False` for the same effect.\n",
      "\n",
      "  sns.barplot(data=coef_df, x='Coeficientes', y='Características', palette='viridis')\n"
     ]
    },
    {
     "data": {
      "image/png": "[encoded data removed]",
      "text/plain": [
       "<Figure size 1000x600 with 1 Axes>"
      ]
     },
     "metadata": {},
     "output_type": "display_data"
    }
   ],
   "source": [
    "import pandas as pd\n",
    "import numpy as np\n",
    "import matplotlib.pyplot as plt\n",
    "import seaborn as sns\n",
    "from sklearn.metrics import classification_report, confusion_matrix\n",
    "from sklearn.model_selection import train_test_split\n",
    "from sklearn.linear_model import LogisticRegression\n",
    "\n",
    "# Cargar datos y preprocesar (asegúrate de incluir tus pasos aquí)\n",
    "\n",
    "# Dividir datos en entrenamiento y prueba\n",
    "X_train, X_test, Y_train, Y_test = train_test_split(X, Y, test_size=0.25, stratify=Y, random_state=0)\n",
    "\n",
    "# Entrenar el modelo\n",
    "modelo_regresion = LogisticRegression(solver=\"liblinear\")\n",
    "modelo_regresion.fit(X_train, Y_train)\n",
    "\n",
    "# Realizar predicciones\n",
    "Prediccion = modelo_regresion.predict(X_test)\n",
    "\n",
    "# 1. Matriz de Confusión\n",
    "confusion = confusion_matrix(Y_test, Prediccion)\n",
    "plt.figure(figsize=(8, 6))\n",
    "sns.heatmap(confusion, annot=True, fmt='d', cmap='Blues', xticklabels=['No Enfermo', 'Enfermo'], yticklabels=['No Enfermo', 'Enfermo'])\n",
    "plt.ylabel('Verdadero')\n",
    "plt.xlabel('Predicción')\n",
    "plt.title('Matriz de Confusión')\n",
    "plt.show()\n",
    "\n",
    "# 2. Gráfico de Métricas de Desempeño\n",
    "report = classification_report(Y_test, Prediccion, output_dict=True)\n",
    "report_df = pd.DataFrame(report).transpose()\n",
    "report_df[['precision', 'recall', 'f1-score']].iloc[:-1].plot(kind='bar', figsize=(10, 6))\n",
    "plt.title('Métricas de Desempeño del Modelo')\n",
    "plt.ylabel('Valor')\n",
    "plt.xticks(rotation=0)\n",
    "plt.show()\n",
    "\n",
    "# 3. Distribución de Valores Verdaderos vs Predicciones\n",
    "comparison_df = pd.DataFrame({'Verdadero': Y_test, 'Predicción': Prediccion})\n",
    "plt.figure(figsize=(8, 6))\n",
    "sns.countplot(data=comparison_df, x='Verdadero', hue='Predicción', palette='Set1')\n",
    "plt.title('Distribución de Valores Verdaderos vs Predicciones')\n",
    "plt.xlabel('Valor Verdadero')\n",
    "plt.ylabel('Cantidad')\n",
    "plt.legend(title='Predicción', loc='upper right', labels=['No Enfermo', 'Enfermo'])\n",
    "plt.show()\n",
    "\n",
    "# 4. Importancia de Características\n",
    "coef = modelo_regresion.coef_[0]\n",
    "features = X.columns\n",
    "coef_df = pd.DataFrame({'Características': features, 'Coeficientes': coef})\n",
    "coef_df = coef_df.sort_values(by='Coeficientes', ascending=False)\n",
    "\n",
    "plt.figure(figsize=(10, 6))\n",
    "sns.barplot(data=coef_df, x='Coeficientes', y='Características', palette='viridis')\n",
    "plt.title('Importancia de Características en el Modelo')\n",
    "plt.xlabel('Coeficientes')\n",
    "plt.ylabel('Características')\n",
    "plt.show()"
   ]
  },
  {
   "cell_type": "code",
   "execution_count": null,
   "id": "ffc8d91d-9218-4057-9ffd-3f5d3ad8409a",
   "metadata": {},
   "outputs": [],
   "source": []
  }
 ],
 "metadata": {
  "kernelspec": {
   "display_name": "Python 3 (ipykernel)",
   "language": "python",
   "name": "python3"
  },
  "language_info": {
   "codemirror_mode": {
    "name": "ipython",
    "version": 3
   },
   "file_extension": ".py",
   "mimetype": "text/x-python",
   "name": "python",
   "nbconvert_exporter": "python",
   "pygments_lexer": "ipython3",
   "version": "3.12.7"
  }
 },
 "nbformat": 4,
 "nbformat_minor": 5
}
